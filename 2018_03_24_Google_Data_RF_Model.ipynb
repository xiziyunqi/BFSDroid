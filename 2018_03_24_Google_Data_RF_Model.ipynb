{
 "cells": [
  {
   "cell_type": "code",
   "execution_count": 3,
   "metadata": {
    "collapsed": true
   },
   "outputs": [],
   "source": [
    "import pandas as pd\n",
    "\n",
    "ben = pd.read_csv(\"google_ben_opcode.csv\")\n",
    "mal = pd.read_csv(\"mal_data_opcode_4000.csv\")"
   ]
  },
  {
   "cell_type": "code",
   "execution_count": 4,
   "metadata": {
    "collapsed": false
   },
   "outputs": [
    {
     "name": "stdout",
     "output_type": "stream",
     "text": [
      "(4232, 1000)\n",
      "(1987, 1000)\n"
     ]
    }
   ],
   "source": [
    "print(ben.shape)\n",
    "print(mal.shape)"
   ]
  },
  {
   "cell_type": "code",
   "execution_count": 5,
   "metadata": {
    "collapsed": true
   },
   "outputs": [],
   "source": [
    "ben[\"label\"] = 0\n",
    "mal[\"label\"] = 1"
   ]
  },
  {
   "cell_type": "code",
   "execution_count": 6,
   "metadata": {
    "collapsed": true
   },
   "outputs": [],
   "source": [
    "data = pd.concat([ben[:1986],mal], ignore_index=True)\n",
    "features = data.drop(\"label\", axis=1)\n",
    "labels = data[\"label\"]"
   ]
  },
  {
   "cell_type": "code",
   "execution_count": 7,
   "metadata": {
    "collapsed": true
   },
   "outputs": [],
   "source": [
    "from sklearn.model_selection import train_test_split\n",
    "from sklearn.ensemble import RandomForestClassifier\n",
    "X_train, X_test, y_train, y_test = train_test_split(features,labels,test_size=0.2,random_state=58)"
   ]
  },
  {
   "cell_type": "code",
   "execution_count": 8,
   "metadata": {
    "collapsed": false
   },
   "outputs": [
    {
     "data": {
      "text/plain": [
       "0.97861635220125787"
      ]
     },
     "execution_count": 8,
     "metadata": {},
     "output_type": "execute_result"
    }
   ],
   "source": [
    "rf = RandomForestClassifier()\n",
    "rf.fit(X_train,y_train)\n",
    "rf.score(X_test,y_test)"
   ]
  },
  {
   "cell_type": "code",
   "execution_count": 9,
   "metadata": {
    "collapsed": false
   },
   "outputs": [
    {
     "name": "stdout",
     "output_type": "stream",
     "text": [
      "0.982051282051 0.974554707379 0.978616352201 0.978288633461 0.978570886028\n"
     ]
    }
   ],
   "source": [
    "from sklearn import metrics\n",
    "\n",
    "y_predict_rf = rf.predict(X_test)\n",
    "\n",
    "precision_score_rf = metrics.precision_score(y_test, y_predict_rf)\n",
    "recall_score_rf = metrics.recall_score(y_test, y_predict_rf)\n",
    "f1_score_rf = metrics.f1_score(y_test, y_predict_rf)\n",
    "accuracy_score_rf = metrics.accuracy_score(y_test, y_predict_rf)\n",
    "roc_auc_rf = metrics.roc_auc_score(y_test, y_predict_rf)\n",
    "\n",
    "print(precision_score_rf,recall_score_rf,accuracy_score_rf,f1_score_rf,roc_auc_rf)"
   ]
  },
  {
   "cell_type": "code",
   "execution_count": null,
   "metadata": {
    "collapsed": true
   },
   "outputs": [],
   "source": []
  }
 ],
 "metadata": {
  "kernelspec": {
   "display_name": "Python 3",
   "language": "python",
   "name": "python3"
  },
  "language_info": {
   "codemirror_mode": {
    "name": "ipython",
    "version": 3
   },
   "file_extension": ".py",
   "mimetype": "text/x-python",
   "name": "python",
   "nbconvert_exporter": "python",
   "pygments_lexer": "ipython3",
   "version": "3.5.3"
  }
 },
 "nbformat": 4,
 "nbformat_minor": 2
}
