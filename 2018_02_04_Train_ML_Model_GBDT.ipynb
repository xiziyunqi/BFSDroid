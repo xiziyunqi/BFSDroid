{
 "cells": [
  {
   "cell_type": "code",
   "execution_count": 10,
   "metadata": {
    "collapsed": true
   },
   "outputs": [],
   "source": [
    "import pandas as pd\n",
    "bp = pd.read_csv(\"google_ben_permission.csv\")\n",
    "mp = pd.read_csv(\"mal_permission_4000.csv\")\n",
    "bc = pd.read_csv(\"google_ben_opcode.csv\")\n",
    "mc = pd.read_csv(\"mal_data_opcode_4000.csv\")"
   ]
  },
  {
   "cell_type": "code",
   "execution_count": 11,
   "metadata": {
    "collapsed": false
   },
   "outputs": [
    {
     "name": "stdout",
     "output_type": "stream",
     "text": [
      "(4232, 108)\n",
      "(1987, 115)\n"
     ]
    }
   ],
   "source": [
    "print(bp.shape)\n",
    "print(mp.shape)"
   ]
  },
  {
   "cell_type": "code",
   "execution_count": 12,
   "metadata": {
    "collapsed": false
   },
   "outputs": [
    {
     "name": "stdout",
     "output_type": "stream",
     "text": [
      "(4232, 138)\n"
     ]
    }
   ],
   "source": [
    "for i in mp:\n",
    "    if i not in bp:\n",
    "        bp[i] = 0\n",
    "print(bp.shape)"
   ]
  },
  {
   "cell_type": "code",
   "execution_count": 13,
   "metadata": {
    "collapsed": false
   },
   "outputs": [
    {
     "name": "stdout",
     "output_type": "stream",
     "text": [
      "(1987, 138)\n"
     ]
    }
   ],
   "source": [
    "for i in bp:\n",
    "    if i not in mp:\n",
    "        mp[i]=0\n",
    "print(mp.shape)"
   ]
  },
  {
   "cell_type": "code",
   "execution_count": 14,
   "metadata": {
    "collapsed": true
   },
   "outputs": [],
   "source": [
    "ben = pd.concat([bp, bc],axis = 1)\n",
    "mal = pd.concat([mp, mc], axis =1)"
   ]
  },
  {
   "cell_type": "code",
   "execution_count": 15,
   "metadata": {
    "collapsed": false
   },
   "outputs": [
    {
     "name": "stdout",
     "output_type": "stream",
     "text": [
      "(4232, 1138)\n",
      "(1987, 1138)\n"
     ]
    }
   ],
   "source": [
    "print(ben.shape)\n",
    "print(mal.shape)"
   ]
  },
  {
   "cell_type": "code",
   "execution_count": 16,
   "metadata": {
    "collapsed": true
   },
   "outputs": [],
   "source": [
    "ben[\"label\"] = 0\n",
    "mal[\"label\"] = 1"
   ]
  },
  {
   "cell_type": "code",
   "execution_count": 17,
   "metadata": {
    "collapsed": true
   },
   "outputs": [],
   "source": [
    "data = pd.concat([ben[:1986],mal], ignore_index=True)\n",
    "features = data.drop(\"label\", axis=1)\n",
    "labels = data[\"label\"]"
   ]
  },
  {
   "cell_type": "code",
   "execution_count": 18,
   "metadata": {
    "collapsed": true
   },
   "outputs": [],
   "source": [
    "from sklearn.model_selection import train_test_split\n",
    "from sklearn.ensemble import GradientBoostingClassifier\n",
    "X_train, X_test, y_train, y_test = train_test_split(features,labels,test_size=0.2,random_state=58)"
   ]
  },
  {
   "cell_type": "code",
   "execution_count": 19,
   "metadata": {
    "collapsed": false
   },
   "outputs": [
    {
     "data": {
      "text/plain": [
       "0.99748427672955975"
      ]
     },
     "execution_count": 19,
     "metadata": {},
     "output_type": "execute_result"
    }
   ],
   "source": [
    "gb = GradientBoostingClassifier(n_estimators=3000)\n",
    "gb.fit(X_train,y_train)\n",
    "gb.score(X_test,y_test)"
   ]
  },
  {
   "cell_type": "code",
   "execution_count": 20,
   "metadata": {
    "collapsed": false
   },
   "outputs": [
    {
     "data": {
      "text/plain": [
       "array([ 0.,  0.,  0., ...,  0.,  0.,  0.])"
      ]
     },
     "execution_count": 20,
     "metadata": {},
     "output_type": "execute_result"
    }
   ],
   "source": [
    "gb.feature_importances_"
   ]
  },
  {
   "cell_type": "code",
   "execution_count": 22,
   "metadata": {
    "collapsed": false
   },
   "outputs": [
    {
     "name": "stdout",
     "output_type": "stream",
     "text": [
      "517\n"
     ]
    }
   ],
   "source": [
    "a = gb.feature_importances_\n",
    "b = {}\n",
    "c = 0\n",
    "for i in a:\n",
    "    if i != 0:\n",
    "        b[c] = i\n",
    "    c += 1\n",
    "print(len(b))"
   ]
  },
  {
   "cell_type": "code",
   "execution_count": 23,
   "metadata": {
    "collapsed": true
   },
   "outputs": [],
   "source": [
    "import operator\n",
    "sorted_b = sorted(b.items(), key=operator.itemgetter(1))"
   ]
  },
  {
   "cell_type": "code",
   "execution_count": 24,
   "metadata": {
    "collapsed": false
   },
   "outputs": [
    {
     "name": "stdout",
     "output_type": "stream",
     "text": [
      "<class 'list'>\n"
     ]
    }
   ],
   "source": [
    "print(type(sorted_b))"
   ]
  },
  {
   "cell_type": "code",
   "execution_count": 30,
   "metadata": {
    "collapsed": false
   },
   "outputs": [
    {
     "data": {
      "text/plain": [
       "'ACCESS_NETWORK_STATE'"
      ]
     },
     "execution_count": 30,
     "metadata": {},
     "output_type": "execute_result"
    }
   ],
   "source": [
    "list(ben.columns.values)[1]"
   ]
  },
  {
   "cell_type": "code",
   "execution_count": 34,
   "metadata": {
    "collapsed": true
   },
   "outputs": [
    {
     "name": "stdout",
     "output_type": "stream",
     "text": [
      "RMI 0.00521295407077\n",
      "DTV 0.00415757261234\n",
      "DCP 0.00355332257828\n",
      "GMM 0.00299182948861\n",
      "TID 0.00297679974677\n",
      "MODIFY_AUDIO_SETTINGS 0.00252018643721\n",
      "GLI 0.00235618117772\n",
      "CDV 0.00205631343542\n",
      "TPR 0.00200071507177\n",
      "IID 0.00179566136632\n",
      "TMR 0.00163022185671\n",
      "MDP 0.00162946464912\n",
      "CPM 0.00155676359805\n",
      "DPR 0.00147245523413\n",
      "CGI 0.00134981528022\n",
      "MIC 0.00130769516716\n",
      "MDD 0.00126051411196\n",
      "PPC 0.00124989705389\n",
      "IRI 0.00115002120529\n",
      "PMR 0.00114060649335\n",
      "TIC 0.0011020753323\n",
      "PRC 0.00107001473244\n",
      "RIT 0.0010620825789\n",
      "MTD 0.00102993922196\n",
      "LGI 0.00102482613781\n",
      "CLR 0.000998121745232\n",
      "IDR 0.000943235016151\n",
      "DLD 0.000940278517895\n",
      "PDD 0.000925983011491\n",
      "TDT 0.000883476911232\n",
      "CPC 0.000877924401598\n",
      "VPI 0.000830444368265\n",
      "RVC 0.000825511710504\n",
      "VLL 0.0007867565731\n",
      "PDM 0.000777164983222\n",
      "VDR 0.000767022100172\n",
      "PCV 0.000745600337778\n",
      "DVV 0.00074551085476\n",
      "MTC 0.000694773517376\n",
      "GVG 0.000686769938464\n",
      "DTG 0.00067314467013\n",
      "IDL 0.000642973978791\n",
      "CGV 0.000640720953425\n",
      "TMG 0.000628403597695\n",
      "MGT 0.00061834503142\n",
      "MIL 0.000602184063863\n",
      "IDC 0.000590658575367\n",
      "GCP 0.000589492029402\n",
      "GLL 0.000583677958841\n",
      "RGV 0.000583634099995\n",
      "RPC 0.000583435929695\n",
      "VCM 0.000580697260363\n",
      "GVM 0.000571564374812\n",
      "CPV 0.000571535115445\n",
      "LIP 0.000563513599984\n",
      "MGP 0.00055679556297\n",
      "DLR 0.000553160934765\n",
      "TRL 0.000543200212441\n",
      "VMC 0.000536272904325\n",
      "VMP 0.000533182469141\n",
      "MPG 0.000529484949555\n",
      "TVG 0.000514341426072\n",
      "MDV 0.000506081834989\n",
      "PGP 0.000502822258718\n",
      "GPG 0.000502703421872\n",
      "VML 0.00049675056899\n",
      "PDL 0.000483562143047\n",
      "VGM 0.000481009360692\n",
      "GMI 0.000476424060292\n",
      "IVV 0.000464690302263\n",
      "IVI 0.000461339124736\n",
      "GCD 0.000459934215027\n",
      "IML 0.000444024511398\n",
      "LII 0.000437699838284\n",
      "GMC 0.000434610663083\n",
      "PTI 0.00043425072027\n",
      "PRV 0.000433329198581\n",
      "CTG 0.000431933012825\n",
      "GVT 0.000425473807121\n",
      "GRL 0.000422538859976\n",
      "MVC 0.000417345566101\n",
      "TCM 0.000415499579968\n",
      "ICR 0.000408927668604\n",
      "VRG 0.000408173466052\n",
      "GMT 0.000403937870945\n",
      "RDD 0.000398651429729\n",
      "PCC 0.00039445209545\n",
      "VLD 0.000380881781637\n",
      "RPD 0.000377355738119\n",
      "DVM 0.000375964538948\n",
      "LGV 0.000374632874905\n",
      "RMP 0.000370327465434\n",
      "GRR 0.000370174529009\n",
      "LTR 0.000369049197169\n",
      "CRP 0.000361487598597\n",
      "GRM 0.000359544740696\n",
      "TDD 0.000347301294589\n",
      "CIM 0.000327196474092\n",
      "TMD 0.000325675007692\n",
      "GTV 0.000325234452149\n"
     ]
    }
   ],
   "source": [
    "for i in sorted_b[::-1][:100]:\n",
    "    print(list(ben.columns.values)[i[0]], i[1])"
   ]
  },
  {
   "cell_type": "code",
   "execution_count": 37,
   "metadata": {
    "collapsed": false
   },
   "outputs": [
    {
     "name": "stdout",
     "output_type": "stream",
     "text": [
      "0.997455470738 0.997455470738 0.99748427673 0.997455470738 0.997483954274\n"
     ]
    }
   ],
   "source": [
    "from sklearn import metrics\n",
    "\n",
    "y_predict_gb = gb.predict(X_test)\n",
    "\n",
    "precision_score_gb = metrics.precision_score(y_test, y_predict_gb)\n",
    "recall_score_gb = metrics.recall_score(y_test, y_predict_gb)\n",
    "f1_score_gb = metrics.f1_score(y_test, y_predict_gb)\n",
    "accuracy_score_gb = metrics.accuracy_score(y_test, y_predict_gb)\n",
    "roc_auc_gb = metrics.roc_auc_score(y_test, y_predict_gb)\n",
    "\n",
    "print(precision_score_gb,recall_score_gb,accuracy_score_gb,f1_score_gb,roc_auc_gb)"
   ]
  },
  {
   "cell_type": "code",
   "execution_count": null,
   "metadata": {
    "collapsed": true
   },
   "outputs": [],
   "source": []
  }
 ],
 "metadata": {
  "kernelspec": {
   "display_name": "Python 3",
   "language": "python",
   "name": "python3"
  },
  "language_info": {
   "codemirror_mode": {
    "name": "ipython",
    "version": 3
   },
   "file_extension": ".py",
   "mimetype": "text/x-python",
   "name": "python",
   "nbconvert_exporter": "python",
   "pygments_lexer": "ipython3",
   "version": "3.5.3"
  }
 },
 "nbformat": 4,
 "nbformat_minor": 2
}
